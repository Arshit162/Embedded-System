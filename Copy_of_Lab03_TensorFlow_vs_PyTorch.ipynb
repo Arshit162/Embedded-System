{
  "cells": [
    {
      "cell_type": "markdown",
      "metadata": {
        "id": "view-in-github",
        "colab_type": "text"
      },
      "source": [
        "<a href=\"https://colab.research.google.com/github/Arshit162/Embedded-System/blob/main/Copy_of_Lab03_TensorFlow_vs_PyTorch.ipynb\" target=\"_parent\"><img src=\"https://colab.research.google.com/assets/colab-badge.svg\" alt=\"Open In Colab\"/></a>"
      ]
    },
    {
      "cell_type": "markdown",
      "id": "5c1e84a1",
      "metadata": {
        "id": "5c1e84a1"
      },
      "source": [
        "# Lab 03: TensorFlow vs. PyTorch\n",
        "- Train a model on MNIST in both TensorFlow and PyTorch, convert to TFLite and ONNX.  \n",
        "- Use tf.GradientTape for Tensorflow custom training loop.\n",
        "\n"
      ]
    },
    {
      "cell_type": "markdown",
      "id": "a1c58bba",
      "metadata": {
        "id": "a1c58bba"
      },
      "source": [
        "## TensorFlow Implementation"
      ]
    },
    {
      "cell_type": "code",
      "execution_count": 1,
      "id": "23ebc05e",
      "metadata": {
        "id": "23ebc05e",
        "colab": {
          "base_uri": "https://localhost:8080/"
        },
        "outputId": "9f8a43fc-9d03-4cc4-a128-aba744095c5c"
      },
      "outputs": [
        {
          "output_type": "stream",
          "name": "stdout",
          "text": [
            "Downloading data from https://storage.googleapis.com/tensorflow/tf-keras-datasets/mnist.npz\n",
            "\u001b[1m11490434/11490434\u001b[0m \u001b[32m━━━━━━━━━━━━━━━━━━━━\u001b[0m\u001b[37m\u001b[0m \u001b[1m0s\u001b[0m 0us/step\n",
            "Epoch 1/5\n",
            "\u001b[1m1875/1875\u001b[0m \u001b[32m━━━━━━━━━━━━━━━━━━━━\u001b[0m\u001b[37m\u001b[0m \u001b[1m15s\u001b[0m 6ms/step - accuracy: 0.8608 - loss: 0.5018\n",
            "Epoch 2/5\n",
            "\u001b[1m1875/1875\u001b[0m \u001b[32m━━━━━━━━━━━━━━━━━━━━\u001b[0m\u001b[37m\u001b[0m \u001b[1m6s\u001b[0m 3ms/step - accuracy: 0.9550 - loss: 0.1563\n",
            "Epoch 3/5\n",
            "\u001b[1m1875/1875\u001b[0m \u001b[32m━━━━━━━━━━━━━━━━━━━━\u001b[0m\u001b[37m\u001b[0m \u001b[1m5s\u001b[0m 3ms/step - accuracy: 0.9660 - loss: 0.1133\n",
            "Epoch 4/5\n",
            "\u001b[1m1875/1875\u001b[0m \u001b[32m━━━━━━━━━━━━━━━━━━━━\u001b[0m\u001b[37m\u001b[0m \u001b[1m6s\u001b[0m 3ms/step - accuracy: 0.9732 - loss: 0.0889\n",
            "Epoch 5/5\n",
            "\u001b[1m1875/1875\u001b[0m \u001b[32m━━━━━━━━━━━━━━━━━━━━\u001b[0m\u001b[37m\u001b[0m \u001b[1m5s\u001b[0m 3ms/step - accuracy: 0.9784 - loss: 0.0731\n",
            "TF Training time: 39.10148572921753 seconds\n",
            "\u001b[1m313/313\u001b[0m \u001b[32m━━━━━━━━━━━━━━━━━━━━\u001b[0m\u001b[37m\u001b[0m \u001b[1m1s\u001b[0m 2ms/step - accuracy: 0.9660 - loss: 0.1064\n"
          ]
        },
        {
          "output_type": "execute_result",
          "data": {
            "text/plain": [
              "[0.09652259200811386, 0.9704999923706055]"
            ]
          },
          "metadata": {},
          "execution_count": 1
        }
      ],
      "source": [
        "import tensorflow as tf\n",
        "from tensorflow.keras.datasets import mnist\n",
        "from tensorflow.keras.utils import to_categorical\n",
        "import time\n",
        "\n",
        "(x_train, y_train), (x_test, y_test) = mnist.load_data()\n",
        "x_train = x_train / 255.0   # Fill in normalization factor\n",
        "x_test = x_test / 255.0     # Fill in normalization factor\n",
        "y_train = to_categorical(y_train)\n",
        "y_test = to_categorical(y_test)\n",
        "\n",
        "model = tf.keras.Sequential([\n",
        "    tf.keras.layers.Input(shape=(28, 28)),        # Fill input shape\n",
        "    tf.keras.layers.Flatten(),\n",
        "    tf.keras.layers.Dense(64, activation='relu'),  # Fill number of hidden neurons\n",
        "    tf.keras.layers.Dense(10, activation='softmax')  # Fill number of output neurons\n",
        "])\n",
        "\n",
        "model.compile(optimizer='adam',\n",
        "              loss='categorical_crossentropy',       # Fill name of loss function\n",
        "              metrics=['accuracy'])\n",
        "\n",
        "start = time.time()\n",
        "model.fit(x_train, y_train, epochs=5)\n",
        "end = time.time()\n",
        "print(f\"TF Training time: {end - start} seconds\")       # Output training time\n",
        "model.evaluate(x_test, y_test)"
      ]
    },
    {
      "cell_type": "markdown",
      "id": "72743ab8",
      "metadata": {
        "id": "72743ab8"
      },
      "source": [
        "## Convert TensorFlow model to TFLite"
      ]
    },
    {
      "cell_type": "code",
      "execution_count": 2,
      "id": "be6ab50a",
      "metadata": {
        "id": "be6ab50a",
        "colab": {
          "base_uri": "https://localhost:8080/"
        },
        "outputId": "b4ad3600-70b6-4db1-f601-fcee6abcf4c4"
      },
      "outputs": [
        {
          "output_type": "stream",
          "name": "stdout",
          "text": [
            "Saved artifact at '/tmp/tmpcgekeg3w'. The following endpoints are available:\n",
            "\n",
            "* Endpoint 'serve'\n",
            "  args_0 (POSITIONAL_ONLY): TensorSpec(shape=(None, 28, 28), dtype=tf.float32, name='keras_tensor')\n",
            "Output Type:\n",
            "  TensorSpec(shape=(None, 10), dtype=tf.float32, name=None)\n",
            "Captures:\n",
            "  132947775974928: TensorSpec(shape=(), dtype=tf.resource, name=None)\n",
            "  132947775979344: TensorSpec(shape=(), dtype=tf.resource, name=None)\n",
            "  132947775978192: TensorSpec(shape=(), dtype=tf.resource, name=None)\n",
            "  132947775977808: TensorSpec(shape=(), dtype=tf.resource, name=None)\n"
          ]
        }
      ],
      "source": [
        "converter = tf.lite.TFLiteConverter.from_keras_model(model)\n",
        "tflite_model = converter.convert()\n",
        "\n",
        "with open(\"model.tflite\", \"wb\") as f:\n",
        "    f.write(tflite_model)"
      ]
    },
    {
      "cell_type": "markdown",
      "id": "57c00c95",
      "metadata": {
        "id": "57c00c95"
      },
      "source": [
        "## PyTorch Implementation"
      ]
    },
    {
      "cell_type": "code",
      "execution_count": 3,
      "id": "623dfb49",
      "metadata": {
        "id": "623dfb49",
        "colab": {
          "base_uri": "https://localhost:8080/"
        },
        "outputId": "0e6591c5-237f-4584-9330-db25a33651dc"
      },
      "outputs": [
        {
          "output_type": "stream",
          "name": "stderr",
          "text": [
            "100%|██████████| 9.91M/9.91M [00:00<00:00, 37.2MB/s]\n",
            "100%|██████████| 28.9k/28.9k [00:00<00:00, 1.09MB/s]\n",
            "100%|██████████| 1.65M/1.65M [00:00<00:00, 8.55MB/s]\n",
            "100%|██████████| 4.54k/4.54k [00:00<00:00, 4.78MB/s]\n"
          ]
        },
        {
          "output_type": "stream",
          "name": "stdout",
          "text": [
            "PyTorch Training time: 61.99 seconds\n",
            "Test accuracy: 0.9675\n"
          ]
        }
      ],
      "source": [
        "import torch\n",
        "import torch.nn as nn\n",
        "import torch.nn.functional as F\n",
        "import torch.optim as optim\n",
        "from torchvision import datasets, transforms\n",
        "from torch.utils.data import DataLoader\n",
        "\n",
        "transform = transforms.Compose([transforms.ToTensor(), transforms.Lambda(lambda x: x.view(-1))])\n",
        "train_loader = DataLoader(datasets.MNIST(root='./data', train=True, transform=transform, download=True), batch_size=32)\n",
        "test_loader = DataLoader(datasets.MNIST(root='./data', train=False, transform=transform, download=True), batch_size=1000)\n",
        "\n",
        "class Net(nn.Module):\n",
        "    def __init__(self):\n",
        "        super(Net, self).__init__()\n",
        "        self.fc1 = nn.Linear(784, 64)    # Fill correct input and output size\n",
        "        self.fc2 = nn.Linear(64, 10)    # Fill correct input and output size\n",
        "    def forward(self, x):\n",
        "        x = F.relu(self.fc1(x))    # Fill correct layer\n",
        "        return self.fc2(x)    # Fill correct layer\n",
        "\n",
        "model = Net()\n",
        "optimizer = optim.Adam(model.parameters())\n",
        "loss_fn = nn.CrossEntropyLoss()\n",
        "\n",
        "start = time.time()\n",
        "for epoch in range(5):\n",
        "    for x, y in train_loader:\n",
        "        optimizer.zero_grad()\n",
        "        pred = model(x)\n",
        "        loss = loss_fn(pred, y)\n",
        "        loss.backward()\n",
        "        optimizer.step()\n",
        "end = time.time()\n",
        "print(f\"PyTorch Training time: {end - start:.2f} seconds\")\n",
        "\n",
        "model.eval()\n",
        "correct = 0\n",
        "with torch.no_grad():\n",
        "    for x, y in test_loader:\n",
        "        output = model(x)\n",
        "        pred = output.argmax(1)\n",
        "        correct += (pred == y).sum().item()\n",
        "print(f\"Test accuracy: {correct / len(test_loader.dataset):.4f}\")"
      ]
    },
    {
      "cell_type": "markdown",
      "id": "f6dbdab0",
      "metadata": {
        "id": "f6dbdab0"
      },
      "source": [
        "## Convert PyTorch model to ONNX"
      ]
    },
    {
      "cell_type": "code",
      "source": [
        "# Install ONNX\n",
        "!pip install onnx"
      ],
      "metadata": {
        "id": "WuMKMhHc8aLF",
        "colab": {
          "base_uri": "https://localhost:8080/"
        },
        "outputId": "2ebecff7-d5f1-4fc3-f2be-25968bf4cd1a"
      },
      "id": "WuMKMhHc8aLF",
      "execution_count": 4,
      "outputs": [
        {
          "output_type": "stream",
          "name": "stdout",
          "text": [
            "Collecting onnx\n",
            "  Downloading onnx-1.18.0-cp311-cp311-manylinux_2_17_x86_64.manylinux2014_x86_64.whl.metadata (6.9 kB)\n",
            "Requirement already satisfied: numpy>=1.22 in /usr/local/lib/python3.11/dist-packages (from onnx) (2.0.2)\n",
            "Requirement already satisfied: protobuf>=4.25.1 in /usr/local/lib/python3.11/dist-packages (from onnx) (5.29.5)\n",
            "Requirement already satisfied: typing_extensions>=4.7.1 in /usr/local/lib/python3.11/dist-packages (from onnx) (4.14.0)\n",
            "Downloading onnx-1.18.0-cp311-cp311-manylinux_2_17_x86_64.manylinux2014_x86_64.whl (17.6 MB)\n",
            "\u001b[2K   \u001b[90m━━━━━━━━━━━━━━━━━━━━━━━━━━━━━━━━━━━━━━━━\u001b[0m \u001b[32m17.6/17.6 MB\u001b[0m \u001b[31m86.1 MB/s\u001b[0m eta \u001b[36m0:00:00\u001b[0m\n",
            "\u001b[?25hInstalling collected packages: onnx\n",
            "Successfully installed onnx-1.18.0\n"
          ]
        }
      ]
    },
    {
      "cell_type": "code",
      "execution_count": 5,
      "id": "09925e9a",
      "metadata": {
        "id": "09925e9a"
      },
      "outputs": [],
      "source": [
        "dummy_input = torch.randn(1, 784)\n",
        "torch.onnx.export(model, dummy_input, \"model.onnx\",\n",
        "                  input_names=[\"input\"], output_names=[\"output\"])"
      ]
    },
    {
      "cell_type": "markdown",
      "source": [
        "## TensorFlow custom training loop using tf.GradientTape"
      ],
      "metadata": {
        "id": "sv4P-dSS_GQB"
      },
      "id": "sv4P-dSS_GQB"
    },
    {
      "cell_type": "code",
      "source": [
        "import tensorflow as tf\n",
        "from tensorflow.keras.datasets import mnist\n",
        "from tensorflow.keras.utils import to_categorical\n",
        "import time\n",
        "\n",
        "# Load and preprocess data\n",
        "(x_train, y_train), (x_test, y_test) = mnist.load_data()\n",
        "x_train = x_train / 255.0   # Fill in normalization factor\n",
        "x_test = x_test / 255.0   # Fill in normalization factor\n",
        "y_train = to_categorical(y_train)\n",
        "y_test = to_categorical(y_test)\n",
        "\n",
        "# Prepare datasets\n",
        "batch_size = 32         # Fill same batch size as in first TF example\n",
        "train_dataset = tf.data.Dataset.from_tensor_slices((x_train, y_train)).shuffle(10000).batch(batch_size)\n",
        "test_dataset = tf.data.Dataset.from_tensor_slices((x_test, y_test)).batch(batch_size)\n",
        "\n",
        "# Define model\n",
        "model = tf.keras.Sequential([\n",
        "    tf.keras.layers.Input(shape=(28, 28)),    # Fill size\n",
        "    tf.keras.layers.Flatten(),\n",
        "    tf.keras.layers.Dense(64, activation='relu'),    # Fill number of neurons and activation\n",
        "    tf.keras.layers.Dense(10, activation='softmax')     # Fill number of neurons and activation\n",
        "])\n",
        "\n",
        "# Define loss, optimizer, and metrics\n",
        "loss_fn = tf.keras.losses.CategoricalCrossentropy()\n",
        "optimizer = tf.keras.optimizers.Adam()\n",
        "train_acc_metric = tf.keras.metrics.CategoricalAccuracy()\n",
        "test_acc_metric = tf.keras.metrics.CategoricalAccuracy()\n",
        "\n",
        "# Training loop\n",
        "epochs = 5\n",
        "start = time.time()\n",
        "for epoch in range(epochs):\n",
        "    print(f\"\\nEpoch {epoch + 1}/{epochs}\")\n",
        "    for step, (x_batch, y_batch) in enumerate(train_dataset):\n",
        "        with tf.GradientTape() as tape:\n",
        "            logits = model(x_batch, training=True)\n",
        "            loss = loss_fn(y_batch, logits)\n",
        "        grads = tape.gradient(loss, model.trainable_variables)\n",
        "        optimizer.apply_gradients(zip(grads, model.trainable_variables))\n",
        "        train_acc_metric.update_state(y_batch, logits)\n",
        "\n",
        "        if step % 100 == 0:\n",
        "            print(f\"Step {step}, Loss: {loss.numpy():.4f}, Accuracy: {train_acc_metric.result().numpy():.4f}\")\n",
        "\n",
        "    print(f\"Training Accuracy for epoch {epoch+1}: {train_acc_metric.result().numpy():.4f}\")\n",
        "    train_acc_metric.reset_state()\n",
        "end = time.time()\n",
        "print(f\"\\nTF Training time: {end - start:.2f} seconds\")\n",
        "\n",
        "# Evaluation loop\n",
        "for x_batch, y_batch in test_dataset:\n",
        "    test_logits = model(x_batch, training=False)\n",
        "    test_acc_metric.update_state(y_batch, test_logits)\n",
        "\n",
        "print(f\"Test Accuracy: {test_acc_metric.result().numpy():.4f}\")"
      ],
      "metadata": {
        "id": "KH-sDlHq_Gdw",
        "colab": {
          "base_uri": "https://localhost:8080/"
        },
        "outputId": "2fc6d4ed-c556-4fa7-9af5-7b6647dc168c"
      },
      "id": "KH-sDlHq_Gdw",
      "execution_count": 6,
      "outputs": [
        {
          "output_type": "stream",
          "name": "stdout",
          "text": [
            "\n",
            "Epoch 1/5\n",
            "Step 0, Loss: 2.3613, Accuracy: 0.1875\n",
            "Step 100, Loss: 0.7241, Accuracy: 0.7305\n",
            "Step 200, Loss: 0.3428, Accuracy: 0.8016\n",
            "Step 300, Loss: 0.2079, Accuracy: 0.8328\n",
            "Step 400, Loss: 0.1654, Accuracy: 0.8509\n",
            "Step 500, Loss: 0.1209, Accuracy: 0.8630\n",
            "Step 600, Loss: 0.1894, Accuracy: 0.8732\n",
            "Step 700, Loss: 0.3606, Accuracy: 0.8793\n",
            "Step 800, Loss: 0.7126, Accuracy: 0.8851\n",
            "Step 900, Loss: 0.3033, Accuracy: 0.8893\n",
            "Step 1000, Loss: 0.3661, Accuracy: 0.8939\n",
            "Step 1100, Loss: 0.4547, Accuracy: 0.8972\n",
            "Step 1200, Loss: 0.0738, Accuracy: 0.8993\n",
            "Step 1300, Loss: 0.0947, Accuracy: 0.9018\n",
            "Step 1400, Loss: 0.2581, Accuracy: 0.9040\n",
            "Step 1500, Loss: 0.0676, Accuracy: 0.9067\n",
            "Step 1600, Loss: 0.3314, Accuracy: 0.9092\n",
            "Step 1700, Loss: 0.1227, Accuracy: 0.9115\n",
            "Step 1800, Loss: 0.0445, Accuracy: 0.9137\n",
            "Training Accuracy for epoch 1: 0.9149\n",
            "\n",
            "Epoch 2/5\n",
            "Step 0, Loss: 0.0743, Accuracy: 1.0000\n",
            "Step 100, Loss: 0.1383, Accuracy: 0.9567\n",
            "Step 200, Loss: 0.1641, Accuracy: 0.9527\n",
            "Step 300, Loss: 0.2350, Accuracy: 0.9530\n",
            "Step 400, Loss: 0.1399, Accuracy: 0.9536\n",
            "Step 500, Loss: 0.2612, Accuracy: 0.9540\n",
            "Step 600, Loss: 0.1440, Accuracy: 0.9548\n",
            "Step 700, Loss: 0.3691, Accuracy: 0.9549\n",
            "Step 800, Loss: 0.0231, Accuracy: 0.9548\n",
            "Step 900, Loss: 0.0952, Accuracy: 0.9553\n",
            "Step 1000, Loss: 0.1314, Accuracy: 0.9562\n",
            "Step 1100, Loss: 0.1336, Accuracy: 0.9558\n",
            "Step 1200, Loss: 0.3707, Accuracy: 0.9556\n",
            "Step 1300, Loss: 0.0518, Accuracy: 0.9556\n",
            "Step 1400, Loss: 0.1701, Accuracy: 0.9561\n",
            "Step 1500, Loss: 0.1495, Accuracy: 0.9562\n",
            "Step 1600, Loss: 0.0313, Accuracy: 0.9566\n",
            "Step 1700, Loss: 0.2117, Accuracy: 0.9567\n",
            "Step 1800, Loss: 0.0456, Accuracy: 0.9573\n",
            "Training Accuracy for epoch 2: 0.9575\n",
            "\n",
            "Epoch 3/5\n",
            "Step 0, Loss: 0.2145, Accuracy: 0.9375\n",
            "Step 100, Loss: 0.0575, Accuracy: 0.9604\n",
            "Step 200, Loss: 0.1209, Accuracy: 0.9642\n",
            "Step 300, Loss: 0.2019, Accuracy: 0.9655\n",
            "Step 400, Loss: 0.0376, Accuracy: 0.9644\n",
            "Step 500, Loss: 0.0955, Accuracy: 0.9655\n",
            "Step 600, Loss: 0.4595, Accuracy: 0.9653\n",
            "Step 700, Loss: 0.1323, Accuracy: 0.9659\n",
            "Step 800, Loss: 0.1683, Accuracy: 0.9656\n",
            "Step 900, Loss: 0.0849, Accuracy: 0.9657\n",
            "Step 1000, Loss: 0.0165, Accuracy: 0.9665\n",
            "Step 1100, Loss: 0.1431, Accuracy: 0.9665\n",
            "Step 1200, Loss: 0.0353, Accuracy: 0.9665\n",
            "Step 1300, Loss: 0.0405, Accuracy: 0.9668\n",
            "Step 1400, Loss: 0.0553, Accuracy: 0.9668\n",
            "Step 1500, Loss: 0.1452, Accuracy: 0.9671\n",
            "Step 1600, Loss: 0.1069, Accuracy: 0.9673\n",
            "Step 1700, Loss: 0.0399, Accuracy: 0.9674\n",
            "Step 1800, Loss: 0.0695, Accuracy: 0.9673\n",
            "Training Accuracy for epoch 3: 0.9675\n",
            "\n",
            "Epoch 4/5\n",
            "Step 0, Loss: 0.1197, Accuracy: 0.9375\n",
            "Step 100, Loss: 0.2207, Accuracy: 0.9771\n",
            "Step 200, Loss: 0.0463, Accuracy: 0.9773\n",
            "Step 300, Loss: 0.0317, Accuracy: 0.9773\n",
            "Step 400, Loss: 0.0170, Accuracy: 0.9754\n",
            "Step 500, Loss: 0.1200, Accuracy: 0.9748\n",
            "Step 600, Loss: 0.0496, Accuracy: 0.9745\n",
            "Step 700, Loss: 0.0375, Accuracy: 0.9750\n",
            "Step 800, Loss: 0.0231, Accuracy: 0.9746\n",
            "Step 900, Loss: 0.0336, Accuracy: 0.9742\n",
            "Step 1000, Loss: 0.0256, Accuracy: 0.9739\n",
            "Step 1100, Loss: 0.0725, Accuracy: 0.9739\n",
            "Step 1200, Loss: 0.0204, Accuracy: 0.9740\n",
            "Step 1300, Loss: 0.1650, Accuracy: 0.9740\n",
            "Step 1400, Loss: 0.0809, Accuracy: 0.9737\n",
            "Step 1500, Loss: 0.0460, Accuracy: 0.9737\n",
            "Step 1600, Loss: 0.1021, Accuracy: 0.9739\n",
            "Step 1700, Loss: 0.0412, Accuracy: 0.9742\n",
            "Step 1800, Loss: 0.0378, Accuracy: 0.9743\n",
            "Training Accuracy for epoch 4: 0.9743\n",
            "\n",
            "Epoch 5/5\n",
            "Step 0, Loss: 0.0466, Accuracy: 1.0000\n",
            "Step 100, Loss: 0.0089, Accuracy: 0.9817\n",
            "Step 200, Loss: 0.0186, Accuracy: 0.9813\n",
            "Step 300, Loss: 0.0909, Accuracy: 0.9804\n",
            "Step 400, Loss: 0.1231, Accuracy: 0.9798\n",
            "Step 500, Loss: 0.0538, Accuracy: 0.9792\n",
            "Step 600, Loss: 0.0343, Accuracy: 0.9796\n",
            "Step 700, Loss: 0.0168, Accuracy: 0.9795\n",
            "Step 800, Loss: 0.0513, Accuracy: 0.9788\n",
            "Step 900, Loss: 0.0434, Accuracy: 0.9794\n",
            "Step 1000, Loss: 0.0226, Accuracy: 0.9794\n",
            "Step 1100, Loss: 0.0213, Accuracy: 0.9795\n",
            "Step 1200, Loss: 0.0916, Accuracy: 0.9794\n",
            "Step 1300, Loss: 0.0481, Accuracy: 0.9790\n",
            "Step 1400, Loss: 0.0725, Accuracy: 0.9787\n",
            "Step 1500, Loss: 0.0424, Accuracy: 0.9786\n",
            "Step 1600, Loss: 0.0322, Accuracy: 0.9786\n",
            "Step 1700, Loss: 0.0247, Accuracy: 0.9789\n",
            "Step 1800, Loss: 0.0098, Accuracy: 0.9790\n",
            "Training Accuracy for epoch 5: 0.9789\n",
            "\n",
            "TF Training time: 389.18 seconds\n",
            "Test Accuracy: 0.9716\n"
          ]
        }
      ]
    },
    {
      "cell_type": "markdown",
      "source": [
        "## Performance Otimization with Graph Execution using @tf.function"
      ],
      "metadata": {
        "id": "E4Nlg4lb_qdW"
      },
      "id": "E4Nlg4lb_qdW"
    },
    {
      "cell_type": "code",
      "source": [
        "import tensorflow as tf\n",
        "from tensorflow.keras.datasets import mnist\n",
        "from tensorflow.keras.utils import to_categorical\n",
        "import time\n",
        "\n",
        "# Load and preprocess data\n",
        "(x_train, y_train), (x_test, y_test) = mnist.load_data()\n",
        "x_train = x_train / 255.0   # Fill in normalization factor\n",
        "x_test = x_test / 255.0   # Fill in normalization factor\n",
        "y_train = to_categorical(y_train, num_classes=10)\n",
        "y_test = to_categorical(y_test, num_classes=10)\n",
        "\n",
        "# Prepare datasets\n",
        "batch_size = 32\n",
        "train_dataset = tf.data.Dataset.from_tensor_slices((x_train, y_train)).shuffle(10000).batch(batch_size)\n",
        "test_dataset = tf.data.Dataset.from_tensor_slices((x_test, y_test)).batch(batch_size)\n",
        "\n",
        "# Define model\n",
        "model = tf.keras.Sequential([\n",
        "    tf.keras.layers.Input(shape=(28, 28)),    # Fill size\n",
        "    tf.keras.layers.Flatten(),\n",
        "    tf.keras.layers.Dense(64, activation='relu'),    # Fill number of neurons and activation\n",
        "    tf.keras.layers.Dense(10, activation='softmax')     # Fill number of neurons and activation\n",
        "])\n",
        "\n",
        "# Define loss, optimizer, and metrics\n",
        "loss_fn = tf.keras.losses.CategoricalCrossentropy()\n",
        "optimizer = tf.keras.optimizers.Adam()\n",
        "train_acc_metric = tf.keras.metrics.CategoricalAccuracy()\n",
        "test_acc_metric = tf.keras.metrics.CategoricalAccuracy()\n",
        "\n",
        "@tf.function  # compile the function into a graph\n",
        "def train_step(x_batch, y_batch):\n",
        "    with tf.GradientTape() as tape:\n",
        "        logits = model(x_batch, training=True)\n",
        "        loss = loss_fn(y_batch, logits)\n",
        "    grads = tape.gradient(loss, model.trainable_variables)\n",
        "    optimizer.apply_gradients(zip(grads, model.trainable_variables))\n",
        "    train_acc_metric.update_state(y_batch, logits)\n",
        "    return loss\n",
        "\n",
        "# Training loop\n",
        "epochs = 5\n",
        "start = time.time()\n",
        "for epoch in range(epochs):\n",
        "    print(f\"\\nEpoch {epoch + 1}/{epochs}\")\n",
        "    for step, (x_batch, y_batch) in enumerate(train_dataset):\n",
        "        loss = train_step(x_batch, y_batch)\n",
        "\n",
        "        if step % 100 == 0:\n",
        "            print(f\"Step {step}, Loss: {loss.numpy():.4f}, Accuracy: {train_acc_metric.result().numpy():.4f}\")\n",
        "\n",
        "    print(f\"Training Accuracy for epoch {epoch+1}: {train_acc_metric.result().numpy():.4f}\")\n",
        "    train_acc_metric.reset_state()\n",
        "end = time.time()\n",
        "print(f\"\\nTF Training time: {end - start:.2f} seconds\")\n",
        "\n",
        "# Evaluation loop\n",
        "for x_batch, y_batch in test_dataset:\n",
        "    test_logits = model(x_batch, training=False)\n",
        "    test_acc_metric.update_state(y_batch, test_logits)\n",
        "\n",
        "print(f\"Test Accuracy: {test_acc_metric.result().numpy():.4f}\")"
      ],
      "metadata": {
        "id": "Jmu_hciK_qle",
        "colab": {
          "base_uri": "https://localhost:8080/"
        },
        "outputId": "9cc2dd07-e0cf-40d9-cab9-2cab8e85ca47"
      },
      "id": "Jmu_hciK_qle",
      "execution_count": 7,
      "outputs": [
        {
          "output_type": "stream",
          "name": "stdout",
          "text": [
            "\n",
            "Epoch 1/5\n",
            "Step 0, Loss: 2.4223, Accuracy: 0.0938\n",
            "Step 100, Loss: 0.7230, Accuracy: 0.6962\n",
            "Step 200, Loss: 0.4437, Accuracy: 0.7833\n",
            "Step 300, Loss: 0.3501, Accuracy: 0.8219\n",
            "Step 400, Loss: 0.4388, Accuracy: 0.8431\n",
            "Step 500, Loss: 0.3511, Accuracy: 0.8579\n",
            "Step 600, Loss: 0.2120, Accuracy: 0.8687\n",
            "Step 700, Loss: 0.1400, Accuracy: 0.8766\n",
            "Step 800, Loss: 0.1338, Accuracy: 0.8833\n",
            "Step 900, Loss: 0.2405, Accuracy: 0.8882\n",
            "Step 1000, Loss: 0.3075, Accuracy: 0.8922\n",
            "Step 1100, Loss: 0.1538, Accuracy: 0.8957\n",
            "Step 1200, Loss: 0.1074, Accuracy: 0.8982\n",
            "Step 1300, Loss: 0.0861, Accuracy: 0.9004\n",
            "Step 1400, Loss: 0.0884, Accuracy: 0.9028\n",
            "Step 1500, Loss: 0.0677, Accuracy: 0.9057\n",
            "Step 1600, Loss: 0.0667, Accuracy: 0.9080\n",
            "Step 1700, Loss: 0.1196, Accuracy: 0.9106\n",
            "Step 1800, Loss: 0.2693, Accuracy: 0.9127\n",
            "Training Accuracy for epoch 1: 0.9145\n",
            "\n",
            "Epoch 2/5\n",
            "Step 0, Loss: 0.1545, Accuracy: 0.9688\n",
            "Step 100, Loss: 0.0335, Accuracy: 0.9508\n",
            "Step 200, Loss: 0.0467, Accuracy: 0.9515\n",
            "Step 300, Loss: 0.0555, Accuracy: 0.9514\n",
            "Step 400, Loss: 0.0816, Accuracy: 0.9506\n",
            "Step 500, Loss: 0.1196, Accuracy: 0.9507\n",
            "Step 600, Loss: 0.1741, Accuracy: 0.9510\n",
            "Step 700, Loss: 0.0813, Accuracy: 0.9519\n",
            "Step 800, Loss: 0.0522, Accuracy: 0.9522\n",
            "Step 900, Loss: 0.0358, Accuracy: 0.9529\n",
            "Step 1000, Loss: 0.0845, Accuracy: 0.9535\n",
            "Step 1100, Loss: 0.1465, Accuracy: 0.9535\n",
            "Step 1200, Loss: 0.0837, Accuracy: 0.9537\n",
            "Step 1300, Loss: 0.2359, Accuracy: 0.9535\n",
            "Step 1400, Loss: 0.1542, Accuracy: 0.9543\n",
            "Step 1500, Loss: 0.2312, Accuracy: 0.9548\n",
            "Step 1600, Loss: 0.0363, Accuracy: 0.9554\n",
            "Step 1700, Loss: 0.0313, Accuracy: 0.9559\n",
            "Step 1800, Loss: 0.0205, Accuracy: 0.9564\n",
            "Training Accuracy for epoch 2: 0.9569\n",
            "\n",
            "Epoch 3/5\n",
            "Step 0, Loss: 0.2190, Accuracy: 0.9375\n",
            "Step 100, Loss: 0.0364, Accuracy: 0.9638\n",
            "Step 200, Loss: 0.0659, Accuracy: 0.9661\n",
            "Step 300, Loss: 0.1378, Accuracy: 0.9680\n",
            "Step 400, Loss: 0.1665, Accuracy: 0.9675\n",
            "Step 500, Loss: 0.0498, Accuracy: 0.9681\n",
            "Step 600, Loss: 0.0807, Accuracy: 0.9682\n",
            "Step 700, Loss: 0.0329, Accuracy: 0.9684\n",
            "Step 800, Loss: 0.1482, Accuracy: 0.9683\n",
            "Step 900, Loss: 0.0399, Accuracy: 0.9681\n",
            "Step 1000, Loss: 0.0167, Accuracy: 0.9684\n",
            "Step 1100, Loss: 0.1028, Accuracy: 0.9685\n",
            "Step 1200, Loss: 0.0583, Accuracy: 0.9684\n",
            "Step 1300, Loss: 0.1591, Accuracy: 0.9684\n",
            "Step 1400, Loss: 0.2352, Accuracy: 0.9685\n",
            "Step 1500, Loss: 0.1507, Accuracy: 0.9684\n",
            "Step 1600, Loss: 0.0725, Accuracy: 0.9687\n",
            "Step 1700, Loss: 0.0316, Accuracy: 0.9692\n",
            "Step 1800, Loss: 0.0621, Accuracy: 0.9692\n",
            "Training Accuracy for epoch 3: 0.9692\n",
            "\n",
            "Epoch 4/5\n",
            "Step 0, Loss: 0.0091, Accuracy: 1.0000\n",
            "Step 100, Loss: 0.0353, Accuracy: 0.9740\n",
            "Step 200, Loss: 0.0088, Accuracy: 0.9742\n",
            "Step 300, Loss: 0.1314, Accuracy: 0.9719\n",
            "Step 400, Loss: 0.1764, Accuracy: 0.9731\n",
            "Step 500, Loss: 0.0565, Accuracy: 0.9733\n",
            "Step 600, Loss: 0.2315, Accuracy: 0.9741\n",
            "Step 700, Loss: 0.0291, Accuracy: 0.9745\n",
            "Step 800, Loss: 0.0365, Accuracy: 0.9744\n",
            "Step 900, Loss: 0.1755, Accuracy: 0.9741\n",
            "Step 1000, Loss: 0.1205, Accuracy: 0.9741\n",
            "Step 1100, Loss: 0.1160, Accuracy: 0.9742\n",
            "Step 1200, Loss: 0.0509, Accuracy: 0.9743\n",
            "Step 1300, Loss: 0.0040, Accuracy: 0.9746\n",
            "Step 1400, Loss: 0.1963, Accuracy: 0.9744\n",
            "Step 1500, Loss: 0.0942, Accuracy: 0.9745\n",
            "Step 1600, Loss: 0.0872, Accuracy: 0.9748\n",
            "Step 1700, Loss: 0.0103, Accuracy: 0.9750\n",
            "Step 1800, Loss: 0.0200, Accuracy: 0.9749\n",
            "Training Accuracy for epoch 4: 0.9749\n",
            "\n",
            "Epoch 5/5\n",
            "Step 0, Loss: 0.1231, Accuracy: 0.9688\n",
            "Step 100, Loss: 0.0228, Accuracy: 0.9817\n",
            "Step 200, Loss: 0.1255, Accuracy: 0.9775\n",
            "Step 300, Loss: 0.1052, Accuracy: 0.9774\n",
            "Step 400, Loss: 0.0121, Accuracy: 0.9778\n",
            "Step 500, Loss: 0.0676, Accuracy: 0.9770\n",
            "Step 600, Loss: 0.0554, Accuracy: 0.9780\n",
            "Step 700, Loss: 0.0524, Accuracy: 0.9786\n",
            "Step 800, Loss: 0.1048, Accuracy: 0.9787\n",
            "Step 900, Loss: 0.0445, Accuracy: 0.9788\n",
            "Step 1000, Loss: 0.0307, Accuracy: 0.9788\n",
            "Step 1100, Loss: 0.0112, Accuracy: 0.9786\n",
            "Step 1200, Loss: 0.0037, Accuracy: 0.9787\n",
            "Step 1300, Loss: 0.0205, Accuracy: 0.9784\n",
            "Step 1400, Loss: 0.1374, Accuracy: 0.9784\n",
            "Step 1500, Loss: 0.0243, Accuracy: 0.9786\n",
            "Step 1600, Loss: 0.1022, Accuracy: 0.9786\n",
            "Step 1700, Loss: 0.0368, Accuracy: 0.9788\n",
            "Step 1800, Loss: 0.0177, Accuracy: 0.9792\n",
            "Training Accuracy for epoch 5: 0.9793\n",
            "\n",
            "TF Training time: 36.16 seconds\n",
            "Test Accuracy: 0.9734\n"
          ]
        }
      ]
    }
  ],
  "metadata": {
    "colab": {
      "provenance": [],
      "include_colab_link": true
    },
    "language_info": {
      "name": "python"
    },
    "kernelspec": {
      "name": "python3",
      "display_name": "Python 3"
    }
  },
  "nbformat": 4,
  "nbformat_minor": 5
}